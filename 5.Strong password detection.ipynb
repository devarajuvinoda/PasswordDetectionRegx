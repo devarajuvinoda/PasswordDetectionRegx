{
 "cells": [
  {
   "cell_type": "code",
   "execution_count": 1,
   "metadata": {},
   "outputs": [],
   "source": [
    "# import the packages\n",
    "import re"
   ]
  },
  {
   "cell_type": "code",
   "execution_count": 52,
   "metadata": {},
   "outputs": [
    {
     "name": "stdout",
     "output_type": "stream",
     "text": [
      "Please enter password: devaraju456H\n"
     ]
    }
   ],
   "source": [
    "# Rules\n",
    "'''\n",
    "1] At-least 8 characters\n",
    "2] Must contain atleast one Upper and Lower case letter\n",
    "3] At-least one digit\n",
    "'''\n",
    "password = re.compile(r'''((?=.*\\d)       # Anything followed by NUMBER\n",
    "                            (?=.*[A-Z])   # Anything followed by UPPER CASE LETTER\n",
    "                            (?=.*[a-z]))  # Anything followed by LOWER CASE LETTER\n",
    "                            {8,}          # Atleast EIGHT CHARS\n",
    "                            ''', re.VERBOSE)\n",
    "text = input('Please enter password: ')"
   ]
  },
  {
   "cell_type": "code",
   "execution_count": 53,
   "metadata": {},
   "outputs": [
    {
     "name": "stdout",
     "output_type": "stream",
     "text": [
      "Password accepted\n"
     ]
    }
   ],
   "source": [
    "pa = password.search(text)\n",
    "if pa == None:\n",
    "    print('Password is not strong.\\nPlease enter a valid password.')\n",
    "else:\n",
    "    print('Password accepted')"
   ]
  }
 ],
 "metadata": {
  "kernelspec": {
   "display_name": "Python 3",
   "language": "python",
   "name": "python3"
  },
  "language_info": {
   "codemirror_mode": {
    "name": "ipython",
    "version": 3
   },
   "file_extension": ".py",
   "mimetype": "text/x-python",
   "name": "python",
   "nbconvert_exporter": "python",
   "pygments_lexer": "ipython3",
   "version": "3.6.4"
  }
 },
 "nbformat": 4,
 "nbformat_minor": 2
}
